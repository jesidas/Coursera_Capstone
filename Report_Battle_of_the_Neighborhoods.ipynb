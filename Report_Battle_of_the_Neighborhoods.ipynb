{
    "cells": [
        {
            "cell_type": "markdown",
            "metadata": {
                "collapsed": true
            },
            "source": "# Capstone Project - The Battle of Neighborhoods"
        },
        {
            "cell_type": "markdown",
            "metadata": {},
            "source": "Applied Data Science Capstone (IBM) - By Jessica Dassanayake"
        },
        {
            "cell_type": "markdown",
            "metadata": {},
            "source": "## Introduction"
        },
        {
            "cell_type": "markdown",
            "metadata": {},
            "source": "Demographic data shows that New York City is a large metropolis with a population consisting of diverse ethnicities. The main metropolitan entry point for immigrants into the United States of America is New York. The ethnic diversity of New York City brings a diverse range of restaurants. These restaurants include cuisines like Chinese, Italian, Indian, and more. America has a large Indian population, as does New York City. With this comes a number of Indian restaurants in New York City. This project will explore the presence of Indian cusisine in New York City neighborhoods.\n\nIn particular, the following questions will be answered:\n1. Which areas have a lot of Indian restaurants?\n2. What is the best location in New York City for Indian restaurants?\n3. Which areas potentially have an Indian cuisine market?\n4. Which area needs more Indian restaurants?\n5. What neighborhood is best suited for Indian people to live with places to operate Indian restaurants?"
        },
        {
            "cell_type": "markdown",
            "metadata": {},
            "source": "## Data"
        },
        {
            "cell_type": "markdown",
            "metadata": {},
            "source": "The required data for the project can be found from:"
        },
        {
            "cell_type": "markdown",
            "metadata": {},
            "source": "1. https://cocl.us/new_york_dataset: The dataset in the link contains information that will be used to explore neighborhoods in New York City. The dataset also contains information about Indian resturants in particular neighborhoods in New York City.\n2. Foursquare API: This provides information about each venue in the neighborhoods that will be explored.\n3. https://data.cityofnewyork.us/City-Government/BoroughBoundaries/tqmj-j8zm: The Geospace data will be used to visualize the chloropleth map"
        },
        {
            "cell_type": "markdown",
            "metadata": {},
            "source": ""
        },
        {
            "cell_type": "markdown",
            "metadata": {},
            "source": ""
        },
        {
            "cell_type": "code",
            "execution_count": null,
            "metadata": {},
            "outputs": [],
            "source": ""
        }
    ],
    "metadata": {
        "kernelspec": {
            "display_name": "Python 3.6",
            "language": "python",
            "name": "python3"
        },
        "language_info": {
            "codemirror_mode": {
                "name": "ipython",
                "version": 3
            },
            "file_extension": ".py",
            "mimetype": "text/x-python",
            "name": "python",
            "nbconvert_exporter": "python",
            "pygments_lexer": "ipython3",
            "version": "3.6.9"
        }
    },
    "nbformat": 4,
    "nbformat_minor": 1
}